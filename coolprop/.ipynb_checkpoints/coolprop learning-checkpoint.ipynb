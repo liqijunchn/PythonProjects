{
 "cells": [
  {
   "cell_type": "markdown",
   "metadata": {},
   "source": [
    "# PropsSI function"
   ]
  },
  {
   "cell_type": "code",
   "execution_count": 21,
   "metadata": {
    "scrolled": true
   },
   "outputs": [
    {
     "data": {
      "text/plain": [
       "373.1242958476844"
      ]
     },
     "execution_count": 21,
     "metadata": {},
     "output_type": "execute_result"
    }
   ],
   "source": [
    "# import PropsSI funtion\n",
    "from CoolProp.CoolProp import PropsSI\n",
    "# saturation temperature of water in 1 atm in K\n",
    "PropsSI('T','P',101325,'Q',0,\"Water\")"
   ]
  },
  {
   "cell_type": "code",
   "execution_count": 22,
   "metadata": {},
   "outputs": [
    {
     "data": {
      "text/plain": [
       "373.1242958476844"
      ]
     },
     "execution_count": 22,
     "metadata": {},
     "output_type": "execute_result"
    }
   ],
   "source": [
    "PropsSI('T','P',101325,'Q',1,\"Water\")"
   ]
  },
  {
   "cell_type": "code",
   "execution_count": 23,
   "metadata": {},
   "outputs": [
    {
     "data": {
      "text/plain": [
       "647.096"
      ]
     },
     "execution_count": 23,
     "metadata": {},
     "output_type": "execute_result"
    }
   ],
   "source": [
    "import CoolProp.CoolProp as CP\n",
    "CP.PropsSI(\"Tcrit\",\"water\")"
   ]
  },
  {
   "cell_type": "markdown",
   "metadata": {},
   "source": [
    "# PhaseSI function"
   ]
  },
  {
   "cell_type": "markdown",
   "metadata": {},
   "source": [
    "It can be useful to know what the phase of a given state point is. A high-level function called PhaseSI has been implemented to allow for access to the phase"
   ]
  },
  {
   "cell_type": "code",
   "execution_count": 24,
   "metadata": {},
   "outputs": [
    {
     "data": {
      "text/plain": [
       "'twophase'"
      ]
     },
     "execution_count": 24,
     "metadata": {},
     "output_type": "execute_result"
    }
   ],
   "source": [
    "import CoolProp.CoolProp as CP\n",
    "CP.PhaseSI(\"P\",101325,'Q',0,'Water')"
   ]
  },
  {
   "cell_type": "code",
   "execution_count": 25,
   "metadata": {},
   "outputs": [
    {
     "data": {
      "text/plain": [
       "6"
      ]
     },
     "execution_count": 25,
     "metadata": {},
     "output_type": "execute_result"
    }
   ],
   "source": [
    "CP.get_phase_index('phase_twophase')"
   ]
  },
  {
   "cell_type": "code",
   "execution_count": 26,
   "metadata": {},
   "outputs": [
    {
     "data": {
      "text/plain": [
       "0"
      ]
     },
     "execution_count": 26,
     "metadata": {},
     "output_type": "execute_result"
    }
   ],
   "source": [
    "CP.get_phase_index('phase_liquid')"
   ]
  },
  {
   "cell_type": "markdown",
   "metadata": {},
   "source": [
    "<figure>\n",
    "<img src=\"./resources/CoolProp01.PNG\" / width=\"500\" height=\"300\">\n",
    "<figcaption  style=\"color:blue; text-align:center\">Figure 1.1 T-P</figcaption>\n",
    "</figure>"
   ]
  },
  {
   "cell_type": "markdown",
   "metadata": {},
   "source": [
    "# Partial Derivatives"
   ]
  },
  {
   "cell_type": "code",
   "execution_count": 27,
   "metadata": {},
   "outputs": [
    {
     "data": {
      "text/plain": [
       "4180.6357765560715"
      ]
     },
     "execution_count": 27,
     "metadata": {},
     "output_type": "execute_result"
    }
   ],
   "source": [
    "import CoolProp.CoolProp as CP\n",
    "CP.PropsSI('C','P',101325,'T',300,'Water')"
   ]
  },
  {
   "cell_type": "code",
   "execution_count": 28,
   "metadata": {},
   "outputs": [
    {
     "data": {
      "text/plain": [
       "4180.6357765560715"
      ]
     },
     "execution_count": 28,
     "metadata": {},
     "output_type": "execute_result"
    }
   ],
   "source": [
    "# c_p using derivative\n",
    "CP.PropsSI('d(Hmass)/d(T)|P','P',101325,'T',300,'Water')"
   ]
  },
  {
   "cell_type": "markdown",
   "metadata": {},
   "source": [
    "# Second Partial Derivatives for Single-Phase States"
   ]
  },
  {
   "cell_type": "markdown",
   "metadata": {},
   "source": [
    "http://www.coolprop.org/coolprop/HighLevelAPI.html"
   ]
  },
  {
   "cell_type": "raw",
   "metadata": {},
   "source": [
    "In a similar fashion it is possible to evaluate second derivatives. For instance, the derivative of cp with respect to mass-based specific enthalpy at constant pressure could be obtained by"
   ]
  },
  {
   "cell_type": "code",
   "execution_count": 32,
   "metadata": {},
   "outputs": [
    {
     "data": {
      "text/plain": [
       "-7.767989468924389e-05"
      ]
     },
     "execution_count": 32,
     "metadata": {},
     "output_type": "execute_result"
    }
   ],
   "source": [
    "import CoolProp.CoolProp as CP\n",
    "CP.PropsSI('d(d(Hmass)/d(T)|P)/d(Hmass)|P','P',101325,'T',300,'Water')"
   ]
  },
  {
   "cell_type": "raw",
   "metadata": {},
   "source": [
    "where the inner part d(Hmass)/d(T)|P is the definition of cp."
   ]
  },
  {
   "cell_type": "markdown",
   "metadata": {},
   "source": [
    "# First Saturation Derivatives"
   ]
  },
  {
   "cell_type": "raw",
   "metadata": {},
   "source": [
    "It is also possible to retrieve the derivatives along the saturation curves using the high-level interface, encoding the desired derivative as a string just like for the single-phase derivatives.\n",
    "\n",
    "For instance, to calculate the saturation derivative of enthalpy ALONG the saturated vapor curve, you could do:"
   ]
  },
  {
   "cell_type": "code",
   "execution_count": 34,
   "metadata": {},
   "outputs": [
    {
     "data": {
      "text/plain": [
       "2079.9370856332416"
      ]
     },
     "execution_count": 34,
     "metadata": {},
     "output_type": "execute_result"
    }
   ],
   "source": [
    "import CoolProp.CoolProp as CP\n",
    "CP.PropsSI('d(Hmass)/d(T)|P','P',101325,'Q',1,\"Water\")"
   ]
  },
  {
   "cell_type": "markdown",
   "metadata": {},
   "source": [
    "# Predefined Mixtures"
   ]
  },
  {
   "cell_type": "code",
   "execution_count": 37,
   "metadata": {},
   "outputs": [
    {
     "data": {
      "text/plain": [
       "'Air.mix,Amarillo.mix,Ekofisk.mix,GulfCoast.mix,GulfCoastGas(NIST1).mix,HighCO2.mix,HighN2.mix,NaturalGasSample.mix,R401A.mix,R401B.mix,R401C.mix,R402A.mix,R402B.mix,R403A.mix,R403B.mix,R404A.mix,R405A.mix,R406A.mix,R407A.mix,R407B.mix,R407C.mix,R407D.mix,R407E.mix,R407F.mix,R408A.mix,R409A.mix,R409B.mix,R410A.mix,R410B.mix,R411A.mix,R411B.mix,R412A.mix,R413A.mix,R414A.mix,R414B.mix,R415A.mix,R415B.mix,R416A.mix,R417A.mix,R417B.mix,R417C.mix,R418A.mix,R419A.mix,R419B.mix,R420A.mix,R421A.mix,R421B.mix,R422A.mix,R422B.mix,R422C.mix,R422D.mix,R422E.mix,R423A.mix,R424A.mix,R425A.mix,R426A.mix,R427A.mix,R428A.mix,R429A.mix,R430A.mix,R431A.mix,R432A.mix,R433A.mix,R433B.mix,R433C.mix,R434A.mix,R435A.mix,R436A.mix,R436B.mix,R437A.mix,R438A.mix,R439A.mix,R440A.mix,R441A.mix,R442A.mix,R443A.mix,R444A.mix,R444B.mix,R445A.mix,R446A.mix,R447A.mix,R448A.mix,R449A.mix,R449B.mix,R450A.mix,R451A.mix,R451B.mix,R452A.mix,R453A.mix,R454A.mix,R454B.mix,R500.mix,R501.mix,R502.mix,R503.mix,R504.mix,R507A.mix,R508A.mix,R508B.mix,R509A.mix,R510A.mix,R511A.mix,R512A.mix,R513A.mix,TypicalNaturalGas.mix'"
      ]
     },
     "execution_count": 37,
     "metadata": {},
     "output_type": "execute_result"
    }
   ],
   "source": [
    "# retrieve the list of predefined mixtures by calling get_global_param_string(\"predefined_mixtures\")\n",
    "import CoolProp.CoolProp as CP\n",
    "CP.get_global_param_string('predefined_mixtures')"
   ]
  },
  {
   "cell_type": "code",
   "execution_count": 38,
   "metadata": {},
   "outputs": [
    {
     "data": {
      "text/plain": [
       "1.1766922904316655"
      ]
     },
     "execution_count": 38,
     "metadata": {},
     "output_type": "execute_result"
    }
   ],
   "source": [
    "#calculate the density of air using the mixture model at 1 atmosphere (=101325 Pa) and 300 K, you could do\n",
    "import CoolProp.CoolProp as CP\n",
    "CP.PropsSI('D','P',101325,'T',300,'Air.mix')"
   ]
  },
  {
   "cell_type": "markdown",
   "metadata": {},
   "source": [
    "# User-Defined Mixtures"
   ]
  },
  {
   "cell_type": "raw",
   "metadata": {},
   "source": [
    "When using mixtures in CoolProp, you can specify mixture components and composition by encoding the mixture components and mole fractions by doing something like"
   ]
  },
  {
   "cell_type": "code",
   "execution_count": 40,
   "metadata": {},
   "outputs": [
    {
     "data": {
      "text/plain": [
       "2.986886779635724"
      ]
     },
     "execution_count": 40,
     "metadata": {},
     "output_type": "execute_result"
    }
   ],
   "source": [
    "import CoolProp.CoolProp as CP\n",
    "CP.PropsSI('D','T',300,'P',101325,'HEOS::R32[0.697615]&R125[0.302385]')"
   ]
  },
  {
   "cell_type": "raw",
   "metadata": {},
   "source": [
    "You can handle ternary and multi-component mixtures in the same fashion, just add the other components to the fluid string with a & separating components and the fraction of the component in [ and ] brackets"
   ]
  },
  {
   "cell_type": "raw",
   "metadata": {},
   "source": [
    "A number of reference states can be used:\n",
    "\n",
    "IIR: h = 200 kJ/kg, s=1 kJ/kg/K at 0C saturated liquid\n",
    "ASHRAE: h = 0, s = 0 @ -40C saturated liquid\n",
    "NBP: h=0, s=0 for saturated liquid at 1 atmosphere\n",
    "DEF: Go back to the default reference state for the fluid\n",
    "which can be used like"
   ]
  },
  {
   "cell_type": "code",
   "execution_count": 41,
   "metadata": {},
   "outputs": [
    {
     "data": {
      "text/plain": [
       "-4.88073098973112e-12"
      ]
     },
     "execution_count": 41,
     "metadata": {},
     "output_type": "execute_result"
    }
   ],
   "source": [
    "import CoolProp.CoolProp as CP\n",
    "CP.set_reference_state('n-Propane','ASHRAE')\n",
    "# Should be zero (or very close to it)\n",
    "CP.PropsSI('H', 'T', 233.15, 'Q', 0, 'n-Propane')"
   ]
  },
  {
   "cell_type": "code",
   "execution_count": 43,
   "metadata": {
    "collapsed": true
   },
   "outputs": [],
   "source": [
    "# Back to the original value\n",
    "CP.set_reference_state('n-Propane','DEF')"
   ]
  },
  {
   "cell_type": "code",
   "execution_count": 44,
   "metadata": {},
   "outputs": [
    {
     "data": {
      "text/plain": [
       "105123.27213761563"
      ]
     },
     "execution_count": 44,
     "metadata": {},
     "output_type": "execute_result"
    }
   ],
   "source": [
    "# Should not be zero\n",
    "CP.PropsSI('H', 'T', 233.15, 'Q', 0, 'n-Propane')"
   ]
  },
  {
   "cell_type": "markdown",
   "metadata": {},
   "source": [
    "# calling refprop"
   ]
  },
  {
   "cell_type": "raw",
   "metadata": {},
   "source": [
    "If you have the REFPROP library installed, you can call REFPROP in the same way that you call CoolProp, but with REFPROP:: preceding the fluid name. For instance, as in python:"
   ]
  },
  {
   "cell_type": "code",
   "execution_count": 45,
   "metadata": {},
   "outputs": [
    {
     "data": {
      "text/plain": [
       "2.986886779635724"
      ]
     },
     "execution_count": 45,
     "metadata": {},
     "output_type": "execute_result"
    }
   ],
   "source": [
    "import CoolProp.CoolProp as CP\n",
    "# Using properties from CoolProp to get R410A density\n",
    "CP.PropsSI('D','T',300,'P',101325,'HEOS::R32[0.697615]&R125[0.302385]')"
   ]
  },
  {
   "cell_type": "code",
   "execution_count": 46,
   "metadata": {},
   "outputs": [
    {
     "ename": "ValueError",
     "evalue": "Initialize failed for backend: \"REFPROP\", fluid: \"R32&R125\" fractions \"[ 0.6976150000, 0.3023850000 ]\"; error: You cannot use the REFPROPMixtureBackend. : PropsSI(\"D\",\"T\",300,\"P\",101325,\"REFPROP::R32[0.697615]&R125[0.302385]\")",
     "output_type": "error",
     "traceback": [
      "\u001b[1;31m---------------------------------------------------------------------------\u001b[0m",
      "\u001b[1;31mValueError\u001b[0m                                Traceback (most recent call last)",
      "\u001b[1;32m<ipython-input-46-aa0d49c9ab54>\u001b[0m in \u001b[0;36m<module>\u001b[1;34m()\u001b[0m\n\u001b[0;32m      1\u001b[0m \u001b[1;31m# Using properties from REFPROP to get R410A density\u001b[0m\u001b[1;33m\u001b[0m\u001b[1;33m\u001b[0m\u001b[0m\n\u001b[1;32m----> 2\u001b[1;33m \u001b[0mCP\u001b[0m\u001b[1;33m.\u001b[0m\u001b[0mPropsSI\u001b[0m\u001b[1;33m(\u001b[0m\u001b[1;34m'D'\u001b[0m\u001b[1;33m,\u001b[0m\u001b[1;34m'T'\u001b[0m\u001b[1;33m,\u001b[0m\u001b[1;36m300\u001b[0m\u001b[1;33m,\u001b[0m\u001b[1;34m'P'\u001b[0m\u001b[1;33m,\u001b[0m\u001b[1;36m101325\u001b[0m\u001b[1;33m,\u001b[0m\u001b[1;34m'REFPROP::R32[0.697615]&R125[0.302385]'\u001b[0m\u001b[1;33m)\u001b[0m\u001b[1;33m\u001b[0m\u001b[0m\n\u001b[0m",
      "\u001b[1;32mCoolProp\\CoolProp.pyx\u001b[0m in \u001b[0;36mCoolProp.CoolProp.PropsSI (CoolProp\\CoolProp.cpp:41701)\u001b[1;34m()\u001b[0m\n",
      "\u001b[1;32mCoolProp\\CoolProp.pyx\u001b[0m in \u001b[0;36mCoolProp.CoolProp.PropsSI (CoolProp\\CoolProp.cpp:41489)\u001b[1;34m()\u001b[0m\n",
      "\u001b[1;32mCoolProp\\CoolProp.pyx\u001b[0m in \u001b[0;36mCoolProp.CoolProp.__Props_err2 (CoolProp\\CoolProp.cpp:39703)\u001b[1;34m()\u001b[0m\n",
      "\u001b[1;31mValueError\u001b[0m: Initialize failed for backend: \"REFPROP\", fluid: \"R32&R125\" fractions \"[ 0.6976150000, 0.3023850000 ]\"; error: You cannot use the REFPROPMixtureBackend. : PropsSI(\"D\",\"T\",300,\"P\",101325,\"REFPROP::R32[0.697615]&R125[0.302385]\")"
     ]
    }
   ],
   "source": [
    "# Using properties from REFPROP to get R410A density\n",
    "CP.PropsSI('D','T',300,'P',101325,'REFPROP::R32[0.697615]&R125[0.302385]')"
   ]
  },
  {
   "cell_type": "markdown",
   "metadata": {},
   "source": [
    "# Sample Code"
   ]
  },
  {
   "cell_type": "code",
   "execution_count": 47,
   "metadata": {},
   "outputs": [
    {
     "data": {
      "text/plain": [
       "3905.2706242925874"
      ]
     },
     "execution_count": 47,
     "metadata": {},
     "output_type": "execute_result"
    }
   ],
   "source": [
    "# Specific heat (J/kg/K) of 20% ethylene glycol as a function of T\n",
    "import CoolProp.CoolProp as CP\n",
    "CP.PropsSI('C','T',298.15,'P',101325,'INCOMP::MEG-20%')"
   ]
  },
  {
   "cell_type": "code",
   "execution_count": 49,
   "metadata": {},
   "outputs": [
    {
     "data": {
      "text/plain": [
       "373.1242958476844"
      ]
     },
     "execution_count": 49,
     "metadata": {},
     "output_type": "execute_result"
    }
   ],
   "source": [
    "# Saturation temperature of Water at 1 atm\n",
    "CP.PropsSI('T','P',101325,'Q',0,'Water')"
   ]
  },
  {
   "cell_type": "code",
   "execution_count": 51,
   "metadata": {},
   "outputs": [
    {
     "data": {
      "text/plain": [
       "14.428201406950738"
      ]
     },
     "execution_count": 51,
     "metadata": {},
     "output_type": "execute_result"
    }
   ],
   "source": [
    "# Saturated vapor density of R134a at 0C\n",
    "CP.PropsSI('D','T',273.15,'Q',1,'R134a')"
   ]
  },
  {
   "cell_type": "code",
   "execution_count": 52,
   "metadata": {},
   "outputs": [
    {
     "data": {
      "text/plain": [
       "2.986886779635724"
      ]
     },
     "execution_count": 52,
     "metadata": {},
     "output_type": "execute_result"
    }
   ],
   "source": [
    "# Using properties from CoolProp to get R410A density\n",
    "PropsSI('D','T',300,'P',101325,'HEOS::R32[0.697615]&R125[0.302385]')"
   ]
  },
  {
   "cell_type": "code",
   "execution_count": 53,
   "metadata": {},
   "outputs": [
    {
     "data": {
      "text/plain": [
       "2.986868076922677"
      ]
     },
     "execution_count": 53,
     "metadata": {},
     "output_type": "execute_result"
    }
   ],
   "source": [
    "# Check that the same as using pseudo-pure\n",
    "CP.PropsSI('D','T',300,'P',101325,'R410A')"
   ]
  },
  {
   "cell_type": "markdown",
   "metadata": {},
   "source": [
    "# Table of string inputs to PropsSI function"
   ]
  },
  {
   "cell_type": "markdown",
   "metadata": {},
   "source": [
    "<figure>\n",
    "<img src=\"./resources/CoolProp02.PNG\" / width=\"700\" height=\"500\">\n",
    "<figcaption  style=\"color:blue; text-align:center\"></figcaption>\n",
    "</figure>"
   ]
  },
  {
   "cell_type": "markdown",
   "metadata": {},
   "source": [
    "<figure>\n",
    "<img src=\"./resources/CoolProp03.PNG\" / width=\"700\" height=\"500\">\n",
    "<figcaption  style=\"color:blue; text-align:center\"></figcaption>\n",
    "</figure>"
   ]
  },
  {
   "cell_type": "markdown",
   "metadata": {},
   "source": [
    "<figure>\n",
    "<img src=\"./resources/CoolProp04.PNG\" / width=\"700\" height=\"500\">\n",
    "<figcaption  style=\"color:blue; text-align:center\"></figcaption>\n",
    "</figure>"
   ]
  },
  {
   "cell_type": "code",
   "execution_count": null,
   "metadata": {
    "collapsed": true
   },
   "outputs": [],
   "source": []
  }
 ],
 "metadata": {
  "anaconda-cloud": {},
  "kernelspec": {
   "display_name": "Python [default]",
   "language": "python",
   "name": "python3"
  },
  "language_info": {
   "codemirror_mode": {
    "name": "ipython",
    "version": 3
   },
   "file_extension": ".py",
   "mimetype": "text/x-python",
   "name": "python",
   "nbconvert_exporter": "python",
   "pygments_lexer": "ipython3",
   "version": "3.5.2"
  },
  "latex_envs": {
   "LaTeX_envs_menu_present": true,
   "autocomplete": true,
   "bibliofile": "biblio.bib",
   "cite_by": "apalike",
   "current_citInitial": 1,
   "eqLabelWithNumbers": true,
   "eqNumInitial": 1,
   "hotkeys": {
    "equation": "Ctrl-E",
    "itemize": "Ctrl-I"
   },
   "labels_anchors": false,
   "latex_user_defs": false,
   "report_style_numbering": true,
   "user_envs_cfg": true
  },
  "toc": {
   "collapse_to_match_collapsible_headings": false,
   "colors": {
    "hover_highlight": "#DAA520",
    "navigate_num": "#000000",
    "navigate_text": "#333333",
    "running_highlight": "#FF0000",
    "selected_highlight": "#FFD700",
    "sidebar_border": "#EEEEEE",
    "wrapper_background": "#FFFFFF"
   },
   "moveMenuLeft": true,
   "navigate_menu": false,
   "number_sections": false,
   "sideBar": true,
   "skip_h1_title": false,
   "threshold": 4,
   "toc_cell": false,
   "toc_section_display": "block",
   "toc_window_display": true,
   "widenNotebook": false
  }
 },
 "nbformat": 4,
 "nbformat_minor": 2
}
