{
 "cells": [
  {
   "cell_type": "markdown",
   "metadata": {},
   "source": [
    "# PropsSI function"
   ]
  },
  {
   "cell_type": "code",
   "execution_count": 1,
   "metadata": {
    "scrolled": true
   },
   "outputs": [
    {
     "data": {
      "text/plain": [
       "373.1242958476844"
      ]
     },
     "execution_count": 1,
     "metadata": {},
     "output_type": "execute_result"
    }
   ],
   "source": [
    "# import PropsSI funtion\n",
    "from CoolProp.CoolProp import PropsSI\n",
    "# saturation temperature of water in 1 atm in K\n",
    "PropsSI('T','P',101325,'Q',0,\"Water\")"
   ]
  },
  {
   "cell_type": "code",
   "execution_count": 2,
   "metadata": {},
   "outputs": [
    {
     "data": {
      "text/plain": [
       "373.1242958476844"
      ]
     },
     "execution_count": 2,
     "metadata": {},
     "output_type": "execute_result"
    }
   ],
   "source": [
    "PropsSI('T','P',101325,'Q',1,\"Water\")"
   ]
  },
  {
   "cell_type": "code",
   "execution_count": 3,
   "metadata": {},
   "outputs": [
    {
     "data": {
      "text/plain": [
       "647.096"
      ]
     },
     "execution_count": 3,
     "metadata": {},
     "output_type": "execute_result"
    }
   ],
   "source": [
    "import CoolProp.CoolProp as CP\n",
    "CP.PropsSI(\"Tcrit\",\"water\")"
   ]
  },
  {
   "cell_type": "markdown",
   "metadata": {},
   "source": [
    "# PhaseSI function"
   ]
  },
  {
   "cell_type": "markdown",
   "metadata": {},
   "source": [
    "It can be useful to know what the phase of a given state point is. A high-level function called PhaseSI has been implemented to allow for access to the phase"
   ]
  },
  {
   "cell_type": "code",
   "execution_count": 4,
   "metadata": {},
   "outputs": [
    {
     "data": {
      "text/plain": [
       "'twophase'"
      ]
     },
     "execution_count": 4,
     "metadata": {},
     "output_type": "execute_result"
    }
   ],
   "source": [
    "import CoolProp.CoolProp as CP\n",
    "CP.PhaseSI(\"P\",101325,'Q',0,'Water')"
   ]
  },
  {
   "cell_type": "code",
   "execution_count": 5,
   "metadata": {},
   "outputs": [
    {
     "data": {
      "text/plain": [
       "6"
      ]
     },
     "execution_count": 5,
     "metadata": {},
     "output_type": "execute_result"
    }
   ],
   "source": [
    "CP.get_phase_index('phase_twophase')"
   ]
  },
  {
   "cell_type": "code",
   "execution_count": 6,
   "metadata": {},
   "outputs": [
    {
     "data": {
      "text/plain": [
       "0"
      ]
     },
     "execution_count": 6,
     "metadata": {},
     "output_type": "execute_result"
    }
   ],
   "source": [
    "CP.get_phase_index('phase_liquid')"
   ]
  },
  {
   "cell_type": "markdown",
   "metadata": {},
   "source": [
    "<figure>\n",
    "<img src=\"./resources/CoolProp01.PNG\" / width=\"500\" height=\"300\">\n",
    "<figcaption  style=\"color:blue; text-align:center\">Figure 1.1 T-P</figcaption>\n",
    "</figure>"
   ]
  },
  {
   "cell_type": "markdown",
   "metadata": {},
   "source": [
    "# Partial Derivatives"
   ]
  },
  {
   "cell_type": "code",
   "execution_count": 7,
   "metadata": {},
   "outputs": [
    {
     "data": {
      "text/plain": [
       "4180.6357765560715"
      ]
     },
     "execution_count": 7,
     "metadata": {},
     "output_type": "execute_result"
    }
   ],
   "source": [
    "import CoolProp.CoolProp as CP\n",
    "CP.PropsSI('C','P',101325,'T',300,'Water')"
   ]
  },
  {
   "cell_type": "code",
   "execution_count": 8,
   "metadata": {},
   "outputs": [
    {
     "data": {
      "text/plain": [
       "4180.6357765560715"
      ]
     },
     "execution_count": 8,
     "metadata": {},
     "output_type": "execute_result"
    }
   ],
   "source": [
    "# c_p using derivative\n",
    "CP.PropsSI('d(Hmass)/d(T)|P','P',101325,'T',300,'Water')"
   ]
  },
  {
   "cell_type": "markdown",
   "metadata": {},
   "source": [
    "# Second Partial Derivatives for Single-Phase States"
   ]
  },
  {
   "cell_type": "markdown",
   "metadata": {},
   "source": [
    "http://www.coolprop.org/coolprop/HighLevelAPI.html"
   ]
  },
  {
   "cell_type": "raw",
   "metadata": {},
   "source": [
    "In a similar fashion it is possible to evaluate second derivatives. For instance, the derivative of cp with respect to mass-based specific enthalpy at constant pressure could be obtained by"
   ]
  },
  {
   "cell_type": "code",
   "execution_count": 9,
   "metadata": {},
   "outputs": [
    {
     "data": {
      "text/plain": [
       "-7.767989468924389e-05"
      ]
     },
     "execution_count": 9,
     "metadata": {},
     "output_type": "execute_result"
    }
   ],
   "source": [
    "import CoolProp.CoolProp as CP\n",
    "CP.PropsSI('d(d(Hmass)/d(T)|P)/d(Hmass)|P','P',101325,'T',300,'Water')"
   ]
  },
  {
   "cell_type": "raw",
   "metadata": {},
   "source": [
    "where the inner part d(Hmass)/d(T)|P is the definition of cp."
   ]
  },
  {
   "cell_type": "markdown",
   "metadata": {},
   "source": [
    "# First Saturation Derivatives"
   ]
  },
  {
   "cell_type": "raw",
   "metadata": {},
   "source": [
    "It is also possible to retrieve the derivatives along the saturation curves using the high-level interface, encoding the desired derivative as a string just like for the single-phase derivatives.\n",
    "\n",
    "For instance, to calculate the saturation derivative of enthalpy ALONG the saturated vapor curve, you could do:"
   ]
  },
  {
   "cell_type": "code",
   "execution_count": 10,
   "metadata": {},
   "outputs": [
    {
     "data": {
      "text/plain": [
       "2079.9370856332416"
      ]
     },
     "execution_count": 10,
     "metadata": {},
     "output_type": "execute_result"
    }
   ],
   "source": [
    "import CoolProp.CoolProp as CP\n",
    "CP.PropsSI('d(Hmass)/d(T)|P','P',101325,'Q',1,\"Water\")"
   ]
  },
  {
   "cell_type": "markdown",
   "metadata": {},
   "source": [
    "# Predefined Mixtures"
   ]
  },
  {
   "cell_type": "code",
   "execution_count": 11,
   "metadata": {},
   "outputs": [
    {
     "data": {
      "text/plain": [
       "'Air.mix,Amarillo.mix,Ekofisk.mix,GulfCoast.mix,GulfCoastGas(NIST1).mix,HighCO2.mix,HighN2.mix,NaturalGasSample.mix,R401A.mix,R401B.mix,R401C.mix,R402A.mix,R402B.mix,R403A.mix,R403B.mix,R404A.mix,R405A.mix,R406A.mix,R407A.mix,R407B.mix,R407C.mix,R407D.mix,R407E.mix,R407F.mix,R408A.mix,R409A.mix,R409B.mix,R410A.mix,R410B.mix,R411A.mix,R411B.mix,R412A.mix,R413A.mix,R414A.mix,R414B.mix,R415A.mix,R415B.mix,R416A.mix,R417A.mix,R417B.mix,R417C.mix,R418A.mix,R419A.mix,R419B.mix,R420A.mix,R421A.mix,R421B.mix,R422A.mix,R422B.mix,R422C.mix,R422D.mix,R422E.mix,R423A.mix,R424A.mix,R425A.mix,R426A.mix,R427A.mix,R428A.mix,R429A.mix,R430A.mix,R431A.mix,R432A.mix,R433A.mix,R433B.mix,R433C.mix,R434A.mix,R435A.mix,R436A.mix,R436B.mix,R437A.mix,R438A.mix,R439A.mix,R440A.mix,R441A.mix,R442A.mix,R443A.mix,R444A.mix,R444B.mix,R445A.mix,R446A.mix,R447A.mix,R448A.mix,R449A.mix,R449B.mix,R450A.mix,R451A.mix,R451B.mix,R452A.mix,R453A.mix,R454A.mix,R454B.mix,R500.mix,R501.mix,R502.mix,R503.mix,R504.mix,R507A.mix,R508A.mix,R508B.mix,R509A.mix,R510A.mix,R511A.mix,R512A.mix,R513A.mix,TypicalNaturalGas.mix'"
      ]
     },
     "execution_count": 11,
     "metadata": {},
     "output_type": "execute_result"
    }
   ],
   "source": [
    "# retrieve the list of predefined mixtures by calling get_global_param_string(\"predefined_mixtures\")\n",
    "import CoolProp.CoolProp as CP\n",
    "CP.get_global_param_string('predefined_mixtures')"
   ]
  },
  {
   "cell_type": "code",
   "execution_count": 12,
   "metadata": {},
   "outputs": [
    {
     "data": {
      "text/plain": [
       "1.1766922904316655"
      ]
     },
     "execution_count": 12,
     "metadata": {},
     "output_type": "execute_result"
    }
   ],
   "source": [
    "#calculate the density of air using the mixture model at 1 atmosphere (=101325 Pa) and 300 K, you could do\n",
    "import CoolProp.CoolProp as CP\n",
    "CP.PropsSI('D','P',101325,'T',300,'Air.mix')"
   ]
  },
  {
   "cell_type": "markdown",
   "metadata": {},
   "source": [
    "# User-Defined Mixtures"
   ]
  },
  {
   "cell_type": "raw",
   "metadata": {},
   "source": [
    "When using mixtures in CoolProp, you can specify mixture components and composition by encoding the mixture components and mole fractions by doing something like"
   ]
  },
  {
   "cell_type": "code",
   "execution_count": 13,
   "metadata": {},
   "outputs": [
    {
     "data": {
      "text/plain": [
       "2.986886779635724"
      ]
     },
     "execution_count": 13,
     "metadata": {},
     "output_type": "execute_result"
    }
   ],
   "source": [
    "import CoolProp.CoolProp as CP\n",
    "CP.PropsSI('D','T',300,'P',101325,'HEOS::R32[0.697615]&R125[0.302385]')"
   ]
  },
  {
   "cell_type": "raw",
   "metadata": {},
   "source": [
    "You can handle ternary and multi-component mixtures in the same fashion, just add the other components to the fluid string with a & separating components and the fraction of the component in [ and ] brackets"
   ]
  },
  {
   "cell_type": "raw",
   "metadata": {},
   "source": [
    "A number of reference states can be used:\n",
    "\n",
    "IIR: h = 200 kJ/kg, s=1 kJ/kg/K at 0C saturated liquid\n",
    "ASHRAE: h = 0, s = 0 @ -40C saturated liquid\n",
    "NBP: h=0, s=0 for saturated liquid at 1 atmosphere\n",
    "DEF: Go back to the default reference state for the fluid\n",
    "which can be used like"
   ]
  },
  {
   "cell_type": "code",
   "execution_count": 14,
   "metadata": {},
   "outputs": [
    {
     "data": {
      "text/plain": [
       "-4.88073098973112e-12"
      ]
     },
     "execution_count": 14,
     "metadata": {},
     "output_type": "execute_result"
    }
   ],
   "source": [
    "import CoolProp.CoolProp as CP\n",
    "CP.set_reference_state('n-Propane','ASHRAE')\n",
    "# Should be zero (or very close to it)\n",
    "CP.PropsSI('H', 'T', 233.15, 'Q', 0, 'n-Propane')"
   ]
  },
  {
   "cell_type": "code",
   "execution_count": 15,
   "metadata": {
    "collapsed": true
   },
   "outputs": [],
   "source": [
    "# Back to the original value\n",
    "CP.set_reference_state('n-Propane','DEF')"
   ]
  },
  {
   "cell_type": "code",
   "execution_count": 16,
   "metadata": {},
   "outputs": [
    {
     "data": {
      "text/plain": [
       "105123.27213761563"
      ]
     },
     "execution_count": 16,
     "metadata": {},
     "output_type": "execute_result"
    }
   ],
   "source": [
    "# Should not be zero\n",
    "CP.PropsSI('H', 'T', 233.15, 'Q', 0, 'n-Propane')"
   ]
  },
  {
   "cell_type": "markdown",
   "metadata": {},
   "source": [
    "# calling refprop"
   ]
  },
  {
   "cell_type": "raw",
   "metadata": {},
   "source": [
    "If you have the REFPROP library installed, you can call REFPROP in the same way that you call CoolProp, but with REFPROP:: preceding the fluid name. For instance, as in python:"
   ]
  },
  {
   "cell_type": "code",
   "execution_count": 17,
   "metadata": {},
   "outputs": [
    {
     "data": {
      "text/plain": [
       "2.986886779635724"
      ]
     },
     "execution_count": 17,
     "metadata": {},
     "output_type": "execute_result"
    }
   ],
   "source": [
    "import CoolProp.CoolProp as CP\n",
    "# Using properties from CoolProp to get R410A density\n",
    "CP.PropsSI('D','T',300,'P',101325,'HEOS::R32[0.697615]&R125[0.302385]')"
   ]
  },
  {
   "cell_type": "raw",
   "metadata": {},
   "source": [
    "REFPROP needs to be able to find the fluid and mixture files at runtime, at a location specified on your computer. CoolProp allows you to avoid the pains of decoding REFPROP’s internal logic for finding these files by explicitly specifying the path that it should tell REFPROP to look for the fluid files.\n",
    "\n",
    "The configuration key for setting the REFPROP path (see Configuration Variables) is ALTERNATIVE_REFPROP_PATH, and you can set it doing something like this in python:"
   ]
  },
  {
   "cell_type": "code",
   "execution_count": 18,
   "metadata": {
    "collapsed": true
   },
   "outputs": [],
   "source": [
    "import json, CoolProp.CoolProp as CP\n",
    "CP.set_config_string(CP.ALTERNATIVE_REFPROP_PATH, 'c:\\\\Program Files\\\\REFPROP\\\\')"
   ]
  },
  {
   "cell_type": "code",
   "execution_count": 19,
   "metadata": {
    "scrolled": false
   },
   "outputs": [
    {
     "data": {
      "text/plain": [
       "2.986882593323017"
      ]
     },
     "execution_count": 19,
     "metadata": {},
     "output_type": "execute_result"
    }
   ],
   "source": [
    "# Using properties from REFPROP to get R410A density\n",
    "CP.PropsSI('D','T',300,'P',101325,'REFPROP::R32[0.697615]&R125[0.302385]')"
   ]
  },
  {
   "cell_type": "markdown",
   "metadata": {},
   "source": [
    "# Other Features"
   ]
  },
  {
   "cell_type": "raw",
   "metadata": {},
   "source": [
    "If you want to determine the version of REFPROP that you are actually using, you can do:"
   ]
  },
  {
   "cell_type": "code",
   "execution_count": 20,
   "metadata": {},
   "outputs": [
    {
     "data": {
      "text/plain": [
       "'9.1.1.11'"
      ]
     },
     "execution_count": 20,
     "metadata": {},
     "output_type": "execute_result"
    }
   ],
   "source": [
    "import CoolProp.CoolProp as CP\n",
    "CP.get_global_param_string(\"REFPROP_version\")"
   ]
  },
  {
   "cell_type": "markdown",
   "metadata": {},
   "source": [
    "# Configuration Variables"
   ]
  },
  {
   "cell_type": "raw",
   "metadata": {},
   "source": [
    "At runtime, there are a several configuration variables that can be used to change the behavior of CoolProp\n",
    "\n",
    "Warning The adjustment of the internal configuration variables might have side effects that you are not expecting, use with caution!!\n",
    "From C++ and the SWIG wrappers, the values can be directly set/changed by using the type-specified getter/setter functions get_config_bool(), set_config_bool(), get_config_string(), set_config_string(), etc., as in sonething like:"
   ]
  },
  {
   "cell_type": "code",
   "execution_count": 27,
   "metadata": {},
   "outputs": [],
   "source": [
    "import CoolProp.CoolProp as CP\n",
    "current_val = CP.get_config_bool(CP.CRITICAL_WITHIN_1UK)"
   ]
  },
  {
   "cell_type": "raw",
   "metadata": {},
   "source": [
    "From all languages, the configuration state can obtained by retrieving the configuration state in the form of a JSON formatted string. For instance, in python, you can get the default configuration state from"
   ]
  },
  {
   "cell_type": "code",
   "execution_count": 29,
   "metadata": {
    "scrolled": true
   },
   "outputs": [
    {
     "data": {
      "text/plain": [
       "{'ALTERNATIVE_REFPROP_HMX_BNC_PATH': '',\n",
       " 'ALTERNATIVE_REFPROP_PATH': 'c:\\\\Program Files\\\\REFPROP\\\\',\n",
       " 'ALTERNATIVE_TABLES_DIRECTORY': '',\n",
       " 'CRITICAL_SPLINES_ENABLED': True,\n",
       " 'CRITICAL_WITHIN_1UK': True,\n",
       " 'DONT_CHECK_PROPERTY_LIMITS': False,\n",
       " 'HENRYS_LAW_TO_GENERATE_VLE_GUESSES': False,\n",
       " 'MAXIMUM_TABLE_DIRECTORY_SIZE_IN_GB': 1.0,\n",
       " 'NORMALIZE_GAS_CONSTANTS': True,\n",
       " 'PHASE_ENVELOPE_STARTING_PRESSURE_PA': 100.0,\n",
       " 'REFPROP_DONT_ESTIMATE_INTERACTION_PARAMETERS': False,\n",
       " 'REFPROP_USE_GERG': False,\n",
       " 'REFPROP_USE_PENGROBINSON': False,\n",
       " 'R_U_CODATA': 8.3144598,\n",
       " 'SAVE_RAW_TABLES': False,\n",
       " 'VTPR_UNIFAQ_PATH': ''}"
      ]
     },
     "execution_count": 29,
     "metadata": {},
     "output_type": "execute_result"
    }
   ],
   "source": [
    "import CoolProp.CoolProp as CP, json\n",
    "json.loads(CP.get_config_as_json_string())"
   ]
  },
  {
   "cell_type": "raw",
   "metadata": {},
   "source": [
    "Most modern languages have facilities for interfacing with JSON formatted strings and converting them back and forth with language-specific data structures. For instance, in python, there is the built-in json package that converts json-formatted strings to python dictionaries, lists, etc."
   ]
  },
  {
   "cell_type": "markdown",
   "metadata": {},
   "source": [
    "# Sample Code"
   ]
  },
  {
   "cell_type": "code",
   "execution_count": 21,
   "metadata": {},
   "outputs": [
    {
     "data": {
      "text/plain": [
       "3905.2706242925874"
      ]
     },
     "execution_count": 21,
     "metadata": {},
     "output_type": "execute_result"
    }
   ],
   "source": [
    "# Specific heat (J/kg/K) of 20% ethylene glycol as a function of T\n",
    "import CoolProp.CoolProp as CP\n",
    "CP.PropsSI('C','T',298.15,'P',101325,'INCOMP::MEG-20%')"
   ]
  },
  {
   "cell_type": "code",
   "execution_count": 22,
   "metadata": {},
   "outputs": [
    {
     "data": {
      "text/plain": [
       "373.1242958476844"
      ]
     },
     "execution_count": 22,
     "metadata": {},
     "output_type": "execute_result"
    }
   ],
   "source": [
    "# Saturation temperature of Water at 1 atm\n",
    "CP.PropsSI('T','P',101325,'Q',0,'Water')"
   ]
  },
  {
   "cell_type": "code",
   "execution_count": 23,
   "metadata": {},
   "outputs": [
    {
     "data": {
      "text/plain": [
       "14.428201406950738"
      ]
     },
     "execution_count": 23,
     "metadata": {},
     "output_type": "execute_result"
    }
   ],
   "source": [
    "# Saturated vapor density of R134a at 0C\n",
    "CP.PropsSI('D','T',273.15,'Q',1,'R134a')"
   ]
  },
  {
   "cell_type": "code",
   "execution_count": 24,
   "metadata": {},
   "outputs": [
    {
     "data": {
      "text/plain": [
       "2.986886779635724"
      ]
     },
     "execution_count": 24,
     "metadata": {},
     "output_type": "execute_result"
    }
   ],
   "source": [
    "# Using properties from CoolProp to get R410A density\n",
    "PropsSI('D','T',300,'P',101325,'HEOS::R32[0.697615]&R125[0.302385]')"
   ]
  },
  {
   "cell_type": "code",
   "execution_count": 25,
   "metadata": {},
   "outputs": [
    {
     "data": {
      "text/plain": [
       "2.986868076922677"
      ]
     },
     "execution_count": 25,
     "metadata": {},
     "output_type": "execute_result"
    }
   ],
   "source": [
    "# Check that the same as using pseudo-pure\n",
    "CP.PropsSI('D','T',300,'P',101325,'R410A')"
   ]
  },
  {
   "cell_type": "markdown",
   "metadata": {},
   "source": [
    "# Table of string inputs to PropsSI function"
   ]
  },
  {
   "cell_type": "markdown",
   "metadata": {},
   "source": [
    "<figure>\n",
    "<img src=\"./resources/CoolProp02.PNG\" / width=\"700\" height=\"500\">\n",
    "<figcaption  style=\"color:blue; text-align:center\"></figcaption>\n",
    "</figure>"
   ]
  },
  {
   "cell_type": "markdown",
   "metadata": {},
   "source": [
    "<figure>\n",
    "<img src=\"./resources/CoolProp03.PNG\" / width=\"700\" height=\"500\">\n",
    "<figcaption  style=\"color:blue; text-align:center\"></figcaption>\n",
    "</figure>"
   ]
  },
  {
   "cell_type": "markdown",
   "metadata": {},
   "source": [
    "<figure>\n",
    "<img src=\"./resources/CoolProp04.PNG\" / width=\"700\" height=\"500\">\n",
    "<figcaption  style=\"color:blue; text-align:center\"></figcaption>\n",
    "</figure>"
   ]
  },
  {
   "cell_type": "code",
   "execution_count": null,
   "metadata": {
    "collapsed": true
   },
   "outputs": [],
   "source": []
  }
 ],
 "metadata": {
  "anaconda-cloud": {},
  "kernelspec": {
   "display_name": "Python [default]",
   "language": "python",
   "name": "python3"
  },
  "language_info": {
   "codemirror_mode": {
    "name": "ipython",
    "version": 3
   },
   "file_extension": ".py",
   "mimetype": "text/x-python",
   "name": "python",
   "nbconvert_exporter": "python",
   "pygments_lexer": "ipython3",
   "version": "3.5.2"
  },
  "latex_envs": {
   "LaTeX_envs_menu_present": true,
   "autocomplete": true,
   "bibliofile": "biblio.bib",
   "cite_by": "apalike",
   "current_citInitial": 1,
   "eqLabelWithNumbers": true,
   "eqNumInitial": 1,
   "hotkeys": {
    "equation": "Ctrl-E",
    "itemize": "Ctrl-I"
   },
   "labels_anchors": false,
   "latex_user_defs": false,
   "report_style_numbering": true,
   "user_envs_cfg": true
  },
  "toc": {
   "collapse_to_match_collapsible_headings": false,
   "colors": {
    "hover_highlight": "#DAA520",
    "navigate_num": "#000000",
    "navigate_text": "#333333",
    "running_highlight": "#FF0000",
    "selected_highlight": "#FFD700",
    "sidebar_border": "#EEEEEE",
    "wrapper_background": "#FFFFFF"
   },
   "moveMenuLeft": true,
   "navigate_menu": false,
   "number_sections": false,
   "sideBar": true,
   "skip_h1_title": false,
   "threshold": 4,
   "toc_cell": false,
   "toc_section_display": "block",
   "toc_window_display": true,
   "widenNotebook": false
  }
 },
 "nbformat": 4,
 "nbformat_minor": 2
}
