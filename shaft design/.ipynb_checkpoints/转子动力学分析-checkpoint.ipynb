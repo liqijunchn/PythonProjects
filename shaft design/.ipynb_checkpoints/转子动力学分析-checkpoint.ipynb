{
 "cells": [
  {
   "cell_type": "code",
   "execution_count": 3,
   "metadata": {
    "collapsed": true
   },
   "outputs": [],
   "source": [
    "import numpy as np\n",
    "import pandas as pd\n",
    "import scipy "
   ]
  },
  {
   "cell_type": "markdown",
   "metadata": {},
   "source": [
    "根据机械设计手册1.7进行阶梯轴转子动力学分析"
   ]
  },
  {
   "cell_type": "markdown",
   "metadata": {},
   "source": [
    "<figure>\n",
    "<img src=\"./resources/shaftDesign07.PNG\" / width=\"500\" height=\"300\">\n",
    "<figcaption  style=\"color:blue; text-align:center\">Figure 1.1 高速轴示意图</figcaption>\n",
    "</figure>"
   ]
  },
  {
   "cell_type": "markdown",
   "metadata": {},
   "source": [
    "把阶梯轴根据轴径分为6段.采用邓莱科公式计算一阶临界转速"
   ]
  },
  {
   "cell_type": "markdown",
   "metadata": {
    "collapsed": true
   },
   "source": [
    "轴段直径d"
   ]
  },
  {
   "cell_type": "code",
   "execution_count": 6,
   "metadata": {},
   "outputs": [
    {
     "name": "stdout",
     "output_type": "stream",
     "text": [
      "0    30.20\n",
      "1    28.70\n",
      "2    48.29\n",
      "3    28.70\n",
      "4    30.20\n",
      "5    24.90\n",
      "dtype: float64\n"
     ]
    }
   ],
   "source": [
    "d=pd.Series([30.20,28.70,48.29,28.70,30.20,24.90])\n",
    "print(d)"
   ]
  },
  {
   "cell_type": "markdown",
   "metadata": {},
   "source": [
    "轴段长度 L"
   ]
  },
  {
   "cell_type": "code",
   "execution_count": 10,
   "metadata": {},
   "outputs": [
    {
     "name": "stdout",
     "output_type": "stream",
     "text": [
      "0     84.6\n",
      "1      8.9\n",
      "2     55.4\n",
      "3      8.9\n",
      "4    121.3\n",
      "5     44.2\n",
      "dtype: float64\n"
     ]
    }
   ],
   "source": [
    "L=pd.Series([84.60,8.90,55.40,8.90,121.30,44.20])\n",
    "print(L)"
   ]
  },
  {
   "cell_type": "markdown",
   "metadata": {},
   "source": [
    "轴的总长为L_total"
   ]
  },
  {
   "cell_type": "code",
   "execution_count": 21,
   "metadata": {},
   "outputs": [
    {
     "name": "stdout",
     "output_type": "stream",
     "text": [
      "轴的总长为 323.300 mm\n"
     ]
    }
   ],
   "source": [
    "L_total=L.sum()\n",
    "print(\"轴的总长为 %.3f mm\" %L_total)"
   ]
  },
  {
   "cell_type": "markdown",
   "metadata": {},
   "source": [
    "阶梯轴可以视为当量直径为dv的光轴进行计算.当量直径dv按下式计算$$dv=\\epsilon \\frac{\\Sigma d_i \\Delta L_i}{\\Sigma L_i}$$ \n",
    "\n",
    "式中 di---第i段轴的直径"
   ]
  },
  {
   "cell_type": "markdown",
   "metadata": {},
   "source": [
    "$\\Delta li$  ---第i段轴的长度"
   ]
  },
  {
   "cell_type": "markdown",
   "metadata": {},
   "source": [
    "$\\epsilon$ --- 经验修正系数 .若阶梯轴中最粗一段长度超过全长50%,取 1. 小于15%时当作轴环,按次粗段来考虑. 对于压缩机转子一般去1.094"
   ]
  },
  {
   "cell_type": "code",
   "execution_count": 40,
   "metadata": {},
   "outputs": [
    {
     "name": "stdout",
     "output_type": "stream",
     "text": [
      "轴的当量直径dv为35.547 mm\n"
     ]
    }
   ],
   "source": [
    "epsilon=1.094;\n",
    "dv=epsilon*((d*L).sum())/L.sum()\n",
    "print(\"轴的当量直径dv为%.3f mm\"%dv)"
   ]
  },
  {
   "cell_type": "markdown",
   "metadata": {},
   "source": [
    "轴为钢轴.\n",
    "\n",
    "材料的弹性模量为E,单位Pa.\n",
    "\n",
    "材料密度为$\\rho$, 单位 $kg/m^3$\n",
    "\n",
    "截面惯性矩为 I(ai) ,单位$m^4$\n",
    "\n"
   ]
  },
  {
   "cell_type": "code",
   "execution_count": 41,
   "metadata": {},
   "outputs": [
    {
     "name": "stdout",
     "output_type": "stream",
     "text": [
      "钢轴材料的弹性模型为 2.1e+11 Pa\n"
     ]
    }
   ],
   "source": [
    "E=2.1*10**11\n",
    "print(\"钢轴材料的弹性模型为 %.2g Pa\"%E)"
   ]
  },
  {
   "cell_type": "code",
   "execution_count": 43,
   "metadata": {
    "scrolled": true
   },
   "outputs": [
    {
     "name": "stdout",
     "output_type": "stream",
     "text": [
      "轴材料的密度为7.8e+03 kg/m^3\n"
     ]
    }
   ],
   "source": [
    "rho=7.8*10**3;\n",
    "print(\"轴材料的密度为%.3g kg/m^3\"%rho)"
   ]
  },
  {
   "cell_type": "markdown",
   "metadata": {},
   "source": [
    "轴段每段重量为w,单位N"
   ]
  },
  {
   "cell_type": "code",
   "execution_count": 52,
   "metadata": {},
   "outputs": [
    {
     "name": "stdout",
     "output_type": "stream",
     "text": [
      "每段轴的重量为 N \n",
      " 0    4.632280\n",
      "1    0.440113\n",
      "2    7.755945\n",
      "3    0.440113\n",
      "4    6.641792\n",
      "5    1.645249\n",
      "dtype: float64\n"
     ]
    }
   ],
   "source": [
    "g=9.8; \n",
    "w=rho*g*(np.pi/4*d**2)*L/10**9\n",
    "print(\"每段轴的重量为 N \\n %s\"%w)"
   ]
  },
  {
   "cell_type": "markdown",
   "metadata": {},
   "source": [
    "轴的总重量为w_total, 单位N"
   ]
  },
  {
   "cell_type": "code",
   "execution_count": 54,
   "metadata": {},
   "outputs": [
    {
     "name": "stdout",
     "output_type": "stream",
     "text": [
      "轴的总重量为21.555 N\n"
     ]
    }
   ],
   "source": [
    "w_total = w.sum()\n",
    "print(\"轴的总重量为%.3f N\"%w_total)"
   ]
  },
  {
   "cell_type": "code",
   "execution_count": null,
   "metadata": {
    "collapsed": true
   },
   "outputs": [],
   "source": []
  }
 ],
 "metadata": {
  "anaconda-cloud": {},
  "kernelspec": {
   "display_name": "Python [default]",
   "language": "python",
   "name": "python3"
  },
  "language_info": {
   "codemirror_mode": {
    "name": "ipython",
    "version": 3
   },
   "file_extension": ".py",
   "mimetype": "text/x-python",
   "name": "python",
   "nbconvert_exporter": "python",
   "pygments_lexer": "ipython3",
   "version": "3.5.2"
  },
  "latex_envs": {
   "LaTeX_envs_menu_present": true,
   "autocomplete": true,
   "bibliofile": "biblio.bib",
   "cite_by": "apalike",
   "current_citInitial": 1,
   "eqLabelWithNumbers": true,
   "eqNumInitial": 1,
   "hotkeys": {
    "equation": "Ctrl-E",
    "itemize": "Ctrl-I"
   },
   "labels_anchors": false,
   "latex_user_defs": false,
   "report_style_numbering": true,
   "user_envs_cfg": true
  },
  "toc": {
   "collapse_to_match_collapsible_headings": false,
   "colors": {
    "hover_highlight": "#DAA520",
    "navigate_num": "#000000",
    "navigate_text": "#333333",
    "running_highlight": "#FF0000",
    "selected_highlight": "#FFD700",
    "sidebar_border": "#EEEEEE",
    "wrapper_background": "#FFFFFF"
   },
   "moveMenuLeft": true,
   "navigate_menu": false,
   "number_sections": false,
   "sideBar": true,
   "skip_h1_title": false,
   "threshold": 4,
   "toc_cell": false,
   "toc_section_display": "block",
   "toc_window_display": false,
   "widenNotebook": false
  }
 },
 "nbformat": 4,
 "nbformat_minor": 2
}
