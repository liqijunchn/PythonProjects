{
 "cells": [
  {
   "cell_type": "code",
   "execution_count": 2,
   "metadata": {
    "collapsed": true
   },
   "outputs": [],
   "source": [
    "import numpy as np;\n",
    "from numpy import sin,cos,deg2rad,tan"
   ]
  },
  {
   "cell_type": "markdown",
   "metadata": {},
   "source": [
    "设计带式运输机减速器的主动轴. 已知传递功率P=10kW, 转速n=200 r/min, 齿轮齿宽 B=100mm, 齿数z=40, 模数m=5mm, 螺旋角$\\beta$ ＝9°22\"，轴端装有联轴器"
   ]
  },
  {
   "cell_type": "markdown",
   "metadata": {},
   "source": [
    "## Given"
   ]
  },
  {
   "cell_type": "code",
   "execution_count": 3,
   "metadata": {
    "collapsed": true
   },
   "outputs": [],
   "source": [
    "P=10;n=200;B=100;z=40;m=5;beta=9+22/60 \n",
    "# Units : poweer in kw; n in npm;  beta in degree"
   ]
  },
  {
   "cell_type": "markdown",
   "metadata": {},
   "source": [
    "## 计算轴上转矩和齿轮作用力"
   ]
  },
  {
   "cell_type": "markdown",
   "metadata": {},
   "source": [
    "轴传递的转矩 T1"
   ]
  },
  {
   "cell_type": "code",
   "execution_count": 4,
   "metadata": {},
   "outputs": [
    {
     "name": "stdout",
     "output_type": "stream",
     "text": [
      "轴传递的扭矩为:4.78e+05 Nm\n"
     ]
    }
   ],
   "source": [
    "T1=9.55*10**6*P/n\n",
    "print(\"轴传递的扭矩为:%.3g Nm\"%T1)"
   ]
  },
  {
   "cell_type": "markdown",
   "metadata": {},
   "source": [
    "齿轮的圆周力Ft $$Ft= \\frac{2 T1}{d1}=\\frac{2 T1}{z*m /cos \\beta}$$"
   ]
  },
  {
   "cell_type": "code",
   "execution_count": 5,
   "metadata": {},
   "outputs": [
    {
     "name": "stdout",
     "output_type": "stream",
     "text": [
      "齿轮的圆周力 4.71e+03 N\n"
     ]
    }
   ],
   "source": [
    "Ft=2*T1/(z*m/cos(deg2rad(beta)))\n",
    "print(\"齿轮的圆周力 %.3g N\"%Ft)"
   ]
  },
  {
   "cell_type": "markdown",
   "metadata": {},
   "source": [
    "齿轮的径向力Fr $$Fr= Ft* \\frac{tan \\alpha_n}{cos \\beta}$$"
   ]
  },
  {
   "cell_type": "code",
   "execution_count": 6,
   "metadata": {},
   "outputs": [
    {
     "name": "stdout",
     "output_type": "stream",
     "text": [
      "齿轮的径向力Fr: 1.74e+03 N\n"
     ]
    }
   ],
   "source": [
    "alpha_n = 20  ## 压力角为20℃\n",
    "Fr=Ft*tan(deg2rad(alpha_n))/cos(deg2rad(beta))\n",
    "print(\"齿轮的径向力Fr: %.3g N\"%Fr)"
   ]
  },
  {
   "cell_type": "markdown",
   "metadata": {},
   "source": [
    "齿轮的轴向力：$$Fa= Ft*tan \\beta$$"
   ]
  },
  {
   "cell_type": "code",
   "execution_count": 7,
   "metadata": {},
   "outputs": [
    {
     "name": "stdout",
     "output_type": "stream",
     "text": [
      "齿轮的轴向力：777.141 N\n"
     ]
    }
   ],
   "source": [
    "Fa = Ft*tan(deg2rad(beta))\n",
    "print(\"齿轮的轴向力：%.3f N\" %Fa)"
   ]
  },
  {
   "cell_type": "markdown",
   "metadata": {},
   "source": [
    "<figure>\n",
    "<img src=\"./resources/shaftDesign01.PNG\" / width=\"600\" height=\"500\">\n",
    "<figcaption  style=\"color:blue; text-align:center\">Figure 1.1 齿轮圆周力,径向力,轴向力</figcaption>\n",
    "</figure>"
   ]
  },
  {
   "cell_type": "markdown",
   "metadata": {},
   "source": [
    "<figure>\n",
    "<img src=\"./resources/shaftDesign03.PNG\" / width=\"600\" height=\"500\">\n",
    "<figcaption  style=\"color:blue; text-align:center\">Figure 1.2 齿轮旋转方向判定</figcaption>\n",
    "</figure>"
   ]
  },
  {
   "cell_type": "markdown",
   "metadata": {},
   "source": [
    "<figure>\n",
    "<img src=\"./resources/shaftDesign02.PNG\" / width=\"600\" height=\"500\">\n",
    "<figcaption  style=\"color:blue; text-align:center\">Figure 1.3 齿轮轴向力方向</figcaption>\n",
    "</figure>"
   ]
  },
  {
   "cell_type": "markdown",
   "metadata": {
    "collapsed": true
   },
   "source": [
    "# 选择轴的材料和热处理方式"
   ]
  },
  {
   "cell_type": "markdown",
   "metadata": {},
   "source": [
    "选择轴的材料为45钢，经调质处理, 其机械性能由表查得"
   ]
  },
  {
   "cell_type": "code",
   "execution_count": 19,
   "metadata": {
    "collapsed": true
   },
   "outputs": [],
   "source": [
    "sigma_b=650   # uits: Mpa   抗拉极限\n",
    "sigma_s=360   # units: MPa  屈服点\n",
    "#sigma_-1=300  #  units MPa  弯曲疲劳极限\n",
    "#tau_-1=155       # units MPa   剪切疲劳极限"
   ]
  },
  {
   "cell_type": "markdown",
   "metadata": {},
   "source": [
    "注意这4个数值的联系。一般$\\sigma_{-1}=0.27(\\sigma_b+\\sigma_s), \\tau_{-1}=0.156(\\sigma_b+\\sigma_s)$"
   ]
  },
  {
   "cell_type": "markdown",
   "metadata": {},
   "source": [
    "# 初算轴的最小轴径"
   ]
  },
  {
   "cell_type": "markdown",
   "metadata": {},
   "source": [
    "按扭转强度计算最小轴径"
   ]
  },
  {
   "cell_type": "markdown",
   "metadata": {},
   "source": [
    "$d\\geq=\\sqrt[3]{\\frac{5}{[\\tau_T]}9550 * 10^3\\frac{P}{n}}=C\\sqrt[3]{\\frac{P}{n}}$\n",
    "\n",
    "按下表选取c值"
   ]
  },
  {
   "cell_type": "markdown",
   "metadata": {},
   "source": [
    "<figure>\n",
    "<img src=\"./resources/shaftDesign04.PNG\" / width=\"600\" height=\"500\">\n",
    "<figcaption  style=\"color:blue; text-align:center\">Figure 1.3 几种轴材料的许用扭剪应力和C值</figcaption>\n",
    "</figure>"
   ]
  },
  {
   "cell_type": "markdown",
   "metadata": {},
   "source": [
    "对于45刚，取c为110"
   ]
  },
  {
   "cell_type": "code",
   "execution_count": 12,
   "metadata": {},
   "outputs": [
    {
     "name": "stdout",
     "output_type": "stream",
     "text": [
      "轴的最小直径为：40.5mm\n"
     ]
    }
   ],
   "source": [
    "c=110; d=c*(P/n)**(1/3);print(\"轴的最小直径为：%.1fmm\"%d)"
   ]
  },
  {
   "cell_type": "markdown",
   "metadata": {},
   "source": [
    "轴的最小直径显然是安装联轴器处轴的直径，需开键槽，故将最小轴径增加5%，变为42.525mm。查《机械设计手册》，取标准直径45mm。"
   ]
  },
  {
   "cell_type": "markdown",
   "metadata": {},
   "source": [
    "按弯扭强度计算最小轴径"
   ]
  },
  {
   "cell_type": "markdown",
   "metadata": {},
   "source": [
    "<figure>\n",
    "<img src=\"./resources/shaftDesign05.PNG\" / width=\"600\" height=\"500\">\n",
    "<figcaption  style=\"color:blue; text-align:center\">Figure 1.3 </figcaption>\n",
    "</figure>"
   ]
  },
  {
   "cell_type": "markdown",
   "metadata": {},
   "source": [
    "# 轴的结构设计\n",
    "\n",
    "(1)拟定轴上零件的装配方案\n",
    "\n",
    "据轴上零件定位、加工要求以及不同的零件装配方案，参考轴的结构设计的基本要求，得出如图7-20所示的两种不同轴结构。\n",
    "图7-20a中，齿轮从非输入端装入，齿轮、套筒、右端轴承和端盖从轴的右端装入，左端轴承和端盖、联轴器依次从轴的左端装入。\n",
    "图7-20b中，齿轮从输入端装入，齿轮、套筒、右端轴承和端盖、联轴器依次从轴的右端装入，仅左端轴承从左端装入。\n",
    "仅从这两个装配方案比较来看，图b的装拆更为简单方便，若为成批生产，该方案在机加工和装拆等方面更能发挥其长处。综合考虑各种因素, 故初步选定轴结构尺寸如图7-20b。"
   ]
  },
  {
   "cell_type": "markdown",
   "metadata": {},
   "source": [
    "<figure>\n",
    "<img src=\"./resources/shaftDesign06.PNG\" / width=\"600\" height=\"500\">\n",
    "<figcaption  style=\"color:blue; text-align:center\">Figure 1.3 </figcaption>\n",
    "</figure>"
   ]
  },
  {
   "cell_type": "markdown",
   "metadata": {},
   "source": [
    "(2)确定轴的各段直径\n",
    "\n",
    "由于联轴器型号已定，左端用轴端挡圈定位,右端用轴肩定位。故轴段6的直径即为相配合的半联轴器的直径，取为45mm。\n",
    "\n",
    "联轴器是靠轴段5的轴肩来进行轴向定位的，为了保证定位可靠，轴段5要比轴段6的直径大5～10mm，取轴段5的直径为52mm。\n",
    "\n",
    "轴段1和轴段4均是放置滚动轴承的，所以直径与滚动轴承内圈直径一样，为55mm。\n",
    "\n",
    "考虑拆卸的方便，轴段3的直径只要比轴段4的直径大1～2mm就行了，这里取为58mm。\n",
    "\n",
    "轴段2是一轴环，右侧用来定位齿轮，左侧用来定位滚动轴承，查滚动轴承的手册，可得该型号的滚动轴承内圈安装尺寸最小为64mm，同时轴环的直径还要满足比轴段3的直径(为58mm)大5～10mm的要求，故这段直径最终取为66mm。"
   ]
  },
  {
   "cell_type": "markdown",
   "metadata": {},
   "source": [
    "(3)确定轴的各段长度\n",
    "\n",
    "轴段6的长度比半联轴器的毂孔长度要(为84mm)短2～3mm，这样可保证轴端挡圈只压在半联轴器上而不压在轴的端面上，故该段轴长取为82mm。\n",
    "\n",
    "同理，轴段3的长度要比齿轮的轮毂宽度(为100mm)短2～3mm，故该段轴长取为98mm。\n",
    "\n",
    "轴段1的长度即为滚动轴承的宽度，查手册为21mm。\n",
    "\n",
    "轴环2宽度取为18mm。\n",
    "\n",
    "轴承端盖的总宽度为20mm（由减速器及轴承端盖的结构设计而定）。根据轴承端盖的装拆及便于对轴承添加润滑脂的要求，取端盖的外端面与半联轴器右端面间的距离l=25mm，故取轴段5的长度为45mm。\n",
    "\n",
    "取齿轮距箱体内壁之距离为10mm，考虑到箱体的铸造误差，在确定滚动轴承位置时，应距箱体内壁一段距离，取5mm。已知滚动轴承宽度为21mm，齿轮轮毂长为100mm,则轴段4的长度为：10＋5＋(100-98)+21=38mm"
   ]
  },
  {
   "cell_type": "markdown",
   "metadata": {},
   "source": [
    "(4) 轴上零件的周向定位\n",
    "\n",
    "齿轮、半联轴器与轴的周向定位均采用平键联接。\n",
    "\n",
    "对于齿轮，由手册查得平键的截面尺寸宽×高=16×10(GB1095-79)，键槽用键槽铣刀加工，长为80mm(标准键长见 GB1096-79),同时为了保证齿轮轮毂与轴的配合为H7/n6；\n",
    "同样，半联轴器与轴的联接，选用平键为14×9×63，半联轴器与轴的配合为H7/k6。\n",
    "滚动轴承与轴的周向定位是借过渡配合来保证的，此处选轴的直径尺寸公差为k6。\n",
    "\n",
    "(5)确定轴上圆角和倒角尺寸。\n",
    "\n",
    "取轴端倒角为2×45°"
   ]
  },
  {
   "cell_type": "code",
   "execution_count": null,
   "metadata": {
    "collapsed": true
   },
   "outputs": [],
   "source": []
  }
 ],
 "metadata": {
  "anaconda-cloud": {},
  "kernelspec": {
   "display_name": "Python [conda root]",
   "language": "python",
   "name": "conda-root-py"
  },
  "language_info": {
   "codemirror_mode": {
    "name": "ipython",
    "version": 3
   },
   "file_extension": ".py",
   "mimetype": "text/x-python",
   "name": "python",
   "nbconvert_exporter": "python",
   "pygments_lexer": "ipython3",
   "version": "3.5.2"
  },
  "latex_envs": {
   "LaTeX_envs_menu_present": true,
   "autocomplete": true,
   "bibliofile": "biblio.bib",
   "cite_by": "apalike",
   "current_citInitial": 1,
   "eqLabelWithNumbers": true,
   "eqNumInitial": 1,
   "hotkeys": {
    "equation": "Ctrl-E",
    "itemize": "Ctrl-I"
   },
   "labels_anchors": false,
   "latex_user_defs": false,
   "report_style_numbering": true,
   "user_envs_cfg": true
  },
  "toc": {
   "collapse_to_match_collapsible_headings": false,
   "colors": {
    "hover_highlight": "#DAA520",
    "navigate_num": "#000000",
    "navigate_text": "#333333",
    "running_highlight": "#FF0000",
    "selected_highlight": "#FFD700",
    "sidebar_border": "#EEEEEE",
    "wrapper_background": "#FFFFFF"
   },
   "moveMenuLeft": true,
   "nav_menu": {},
   "navigate_menu": false,
   "number_sections": false,
   "sideBar": true,
   "skip_h1_title": false,
   "threshold": 4,
   "toc_cell": false,
   "toc_position": {},
   "toc_section_display": "block",
   "toc_window_display": false,
   "widenNotebook": false
  }
 },
 "nbformat": 4,
 "nbformat_minor": 2
}
