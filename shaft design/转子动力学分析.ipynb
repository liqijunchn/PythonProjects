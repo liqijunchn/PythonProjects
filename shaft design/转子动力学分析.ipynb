{
 "cells": [
  {
   "cell_type": "code",
   "execution_count": 123,
   "metadata": {},
   "outputs": [],
   "source": [
    "import numpy as np\n",
    "import pandas as pd\n",
    "import scipy "
   ]
  },
  {
   "cell_type": "markdown",
   "metadata": {},
   "source": [
    "根据机械设计手册1.7进行阶梯轴转子动力学分析"
   ]
  },
  {
   "cell_type": "markdown",
   "metadata": {},
   "source": [
    "<figure>\n",
    "<figure>\n",
    "<img src=\"./resources/shaftDesign08.PNG\" / width=\"500\" height=\"300\">\n",
    "<figcaption  style=\"color:blue; text-align:center\">Figure 1.1 双铰支座圆盘钢轴 </figcaption>\n",
    "</figure>"
   ]
  },
  {
   "cell_type": "markdown",
   "metadata": {},
   "source": [
    "根据双胶支座模型，按简化的公式求解$$\\frac{1}{ncr^2}= \\frac{W_0 L^3}{9.04*10^9 \\lambda^2 dv^4}+\\frac{\\Sigma W_i a_i^2 b_i^2}{27.14 *10^9 l dv^4}+\\frac{\\Sigma G_j c_j^2 (l+c_j)}{27.14*10^9 dv^4}$$\n",
    "\n",
    "式中：$\\lambda$ 一阶临界转速时支座系数\n",
    "\n",
    "    dv  为当量直径(mm)\n",
    "    \n",
    "    wi  为支撑间圆盘所受的重力(N)\n",
    "    \n",
    "    Gj  为外伸间圆盘所受的重力(N)"
   ]
  },
  {
   "cell_type": "markdown",
   "metadata": {},
   "source": [
    "把阶梯轴根据轴径分为6段."
   ]
  },
  {
   "cell_type": "markdown",
   "metadata": {},
   "source": [
    "<figure>\n",
    "<img src=\"./resources/shaftDesign07.PNG\" / width=\"500\" height=\"300\">\n",
    "<figcaption  style=\"color:blue; text-align:center\">Figure 1.1 高速轴示意图</figcaption>\n",
    "</figure>"
   ]
  },
  {
   "cell_type": "markdown",
   "metadata": {},
   "source": [
    "两个铰链的间距为L0"
   ]
  },
  {
   "cell_type": "code",
   "execution_count": 124,
   "metadata": {},
   "outputs": [
    {
     "name": "stdout",
     "output_type": "stream",
     "text": [
      "两个铰链的间距为155.700 mm\n"
     ]
    }
   ],
   "source": [
    "L0=155.7;\n",
    "print(\"两个铰链的间距为%.3f mm\"%L0)"
   ]
  },
  {
   "cell_type": "markdown",
   "metadata": {},
   "source": [
    "假设叶轮的中心位于轴的右端。叶轮中心至右侧铰链的距离c"
   ]
  },
  {
   "cell_type": "code",
   "execution_count": 125,
   "metadata": {},
   "outputs": [
    {
     "name": "stdout",
     "output_type": "stream",
     "text": [
      "叶轮中心至右侧铰链的距离为115.300 mm\n"
     ]
    }
   ],
   "source": [
    "c1=115.3;\n",
    "print(\"叶轮中心至右侧铰链的距离为%.3f mm\"%c1)"
   ]
  },
  {
   "cell_type": "markdown",
   "metadata": {
    "collapsed": true
   },
   "source": [
    "轴段直径d"
   ]
  },
  {
   "cell_type": "code",
   "execution_count": 126,
   "metadata": {},
   "outputs": [
    {
     "name": "stdout",
     "output_type": "stream",
     "text": [
      "0    30.20\n",
      "1    28.70\n",
      "2    48.29\n",
      "3    28.70\n",
      "4    30.20\n",
      "5    24.90\n",
      "dtype: float64\n"
     ]
    }
   ],
   "source": [
    "d=pd.Series([30.20,28.70,48.29,28.70,30.20,24.90])\n",
    "print(d)"
   ]
  },
  {
   "cell_type": "markdown",
   "metadata": {},
   "source": [
    "轴段长度 L"
   ]
  },
  {
   "cell_type": "code",
   "execution_count": 127,
   "metadata": {},
   "outputs": [
    {
     "name": "stdout",
     "output_type": "stream",
     "text": [
      "0     84.6\n",
      "1      8.9\n",
      "2     55.4\n",
      "3      8.9\n",
      "4    121.3\n",
      "5     44.2\n",
      "dtype: float64\n"
     ]
    }
   ],
   "source": [
    "L=pd.Series([84.60,8.90,55.40,8.90,121.30,44.20])\n",
    "print(L)"
   ]
  },
  {
   "cell_type": "markdown",
   "metadata": {},
   "source": [
    "轴的总长为L_total"
   ]
  },
  {
   "cell_type": "code",
   "execution_count": 128,
   "metadata": {},
   "outputs": [
    {
     "name": "stdout",
     "output_type": "stream",
     "text": [
      "轴的总长为 323.300 mm\n"
     ]
    }
   ],
   "source": [
    "L_total=L.sum()\n",
    "print(\"轴的总长为 %.3f mm\" %L_total)"
   ]
  },
  {
   "cell_type": "markdown",
   "metadata": {},
   "source": [
    "阶梯轴可以视为当量直径为dv的光轴进行计算.当量直径dv按下式计算$$dv=\\epsilon \\frac{\\Sigma d_i \\Delta L_i}{\\Sigma L_i}$$ \n",
    "\n",
    "式中 di---第i段轴的直径"
   ]
  },
  {
   "cell_type": "markdown",
   "metadata": {},
   "source": [
    "$\\Delta li$  ---第i段轴的长度"
   ]
  },
  {
   "cell_type": "markdown",
   "metadata": {},
   "source": [
    "$\\epsilon$ --- 经验修正系数 .若阶梯轴中最粗一段长度超过全长50%,取 1. 小于15%时当作轴环,按次粗段来考虑. 对于压缩机转子一般去1.094"
   ]
  },
  {
   "cell_type": "code",
   "execution_count": 129,
   "metadata": {},
   "outputs": [
    {
     "name": "stdout",
     "output_type": "stream",
     "text": [
      "轴的当量直径dv为35.547 mm\n"
     ]
    }
   ],
   "source": [
    "epsilon=1.094;\n",
    "dv=epsilon*((d*L).sum())/L.sum()\n",
    "print(\"轴的当量直径dv为%.3f mm\"%dv)"
   ]
  },
  {
   "cell_type": "markdown",
   "metadata": {},
   "source": [
    "轴为钢轴.\n",
    "\n",
    "材料密度为$\\rho$, 单位 $kg/m^3$\n",
    "\n",
    "截面惯性矩为 I(ai) ,单位$m^4$\n"
   ]
  },
  {
   "cell_type": "code",
   "execution_count": 130,
   "metadata": {
    "scrolled": true
   },
   "outputs": [
    {
     "name": "stdout",
     "output_type": "stream",
     "text": [
      "轴材料的密度为7.8e+03 kg/m^3\n"
     ]
    }
   ],
   "source": [
    "rho=7.8*10**3;\n",
    "print(\"轴材料的密度为%.3g kg/m^3\"%rho)"
   ]
  },
  {
   "cell_type": "markdown",
   "metadata": {},
   "source": [
    "轴段每段重量为w,单位N"
   ]
  },
  {
   "cell_type": "code",
   "execution_count": 131,
   "metadata": {},
   "outputs": [
    {
     "name": "stdout",
     "output_type": "stream",
     "text": [
      "每段轴的重量为 N \n",
      " 0    4.632280\n",
      "1    0.440113\n",
      "2    7.755945\n",
      "3    0.440113\n",
      "4    6.641792\n",
      "5    1.645249\n",
      "dtype: float64\n"
     ]
    }
   ],
   "source": [
    "g=9.8; \n",
    "w=rho*g*(np.pi/4*d**2)*L/10**9\n",
    "print(\"每段轴的重量为 N \\n %s\"%w)"
   ]
  },
  {
   "cell_type": "markdown",
   "metadata": {},
   "source": [
    "轴的总重量为w0, 单位N"
   ]
  },
  {
   "cell_type": "code",
   "execution_count": 147,
   "metadata": {},
   "outputs": [
    {
     "name": "stdout",
     "output_type": "stream",
     "text": [
      "轴的总重力为21.555 N\n"
     ]
    }
   ],
   "source": [
    "w0 = w.sum()\n",
    "print(\"轴的总重力为%.3f N\"%w0)"
   ]
  },
  {
   "cell_type": "markdown",
   "metadata": {
    "collapsed": true
   },
   "source": [
    "按简化公式求解\n",
    "\n",
    "右式第1项 rhs1= $\\frac{W_0 L^3}{9.04*10^9 \\lambda^2 dv^4}$"
   ]
  },
  {
   "cell_type": "code",
   "execution_count": 133,
   "metadata": {},
   "outputs": [
    {
     "data": {
      "text/plain": [
       "6.121009857443878e-10"
      ]
     },
     "execution_count": 133,
     "metadata": {},
     "output_type": "execute_result"
    }
   ],
   "source": [
    "lam = 9.08\n",
    "rhs1= w0*L_total**3/(9.04*10**9*lam**2*dv**4) \n",
    "rhs1"
   ]
  },
  {
   "cell_type": "code",
   "execution_count": 134,
   "metadata": {},
   "outputs": [
    {
     "name": "stdout",
     "output_type": "stream",
     "text": [
      "7.284e+08\n"
     ]
    }
   ],
   "source": [
    "print(\"%.3e\"%(w0*L_total**3))"
   ]
  },
  {
   "cell_type": "markdown",
   "metadata": {},
   "source": [
    "右式第二项为0\n",
    "\n",
    "右式第三项$rhs3=\\frac{\\Sigma G_j c_j^2 (l+c_j)}{27.14*10^9 dv^4}$"
   ]
  },
  {
   "cell_type": "code",
   "execution_count": 135,
   "metadata": {},
   "outputs": [],
   "source": [
    "rhs2=0"
   ]
  },
  {
   "cell_type": "markdown",
   "metadata": {},
   "source": [
    "叶轮重力为G1,单位N"
   ]
  },
  {
   "cell_type": "code",
   "execution_count": 150,
   "metadata": {},
   "outputs": [
    {
     "name": "stdout",
     "output_type": "stream",
     "text": [
      "叶轮重力26.5 N\n"
     ]
    }
   ],
   "source": [
    "G1= 2.7*9.8\n",
    "print(\"叶轮重力%.3g N\"%G1)"
   ]
  },
  {
   "cell_type": "code",
   "execution_count": 151,
   "metadata": {},
   "outputs": [
    {
     "data": {
      "text/plain": [
       "2.1998651381762823e-09"
      ]
     },
     "execution_count": 151,
     "metadata": {},
     "output_type": "execute_result"
    }
   ],
   "source": [
    "rhs3= G1*c1**2*(L0+c1)/(27.14*10**9*dv**4)\n",
    "rhs3"
   ]
  },
  {
   "cell_type": "code",
   "execution_count": 152,
   "metadata": {
    "scrolled": true
   },
   "outputs": [
    {
     "name": "stdout",
     "output_type": "stream",
     "text": [
      "第一项和第三项的比值 0.278\n"
     ]
    }
   ],
   "source": [
    "print(\"第一项和第三项的比值 %.3f\"%(rhs1/rhs3))"
   ]
  },
  {
   "cell_type": "markdown",
   "metadata": {},
   "source": [
    "第1阶临界转速为nc1 为 "
   ]
  },
  {
   "cell_type": "code",
   "execution_count": 153,
   "metadata": {},
   "outputs": [
    {
     "name": "stdout",
     "output_type": "stream",
     "text": [
      "第1阶临界转速为nc1:1.89e+04\n"
     ]
    }
   ],
   "source": [
    "nrc1=(1/(rhs1+rhs2+rhs3))**0.5\n",
    "print(\"第1阶临界转速为nc1:%.3g\"%nrc1)"
   ]
  },
  {
   "cell_type": "markdown",
   "metadata": {},
   "source": [
    "$对于刚性轴,工作转速n\\leq(0.8-0.75)nrc_1$"
   ]
  },
  {
   "cell_type": "code",
   "execution_count": 159,
   "metadata": {},
   "outputs": [
    {
     "data": {
      "text/plain": [
       "'工作转速小于1.414e+04'"
      ]
     },
     "execution_count": 159,
     "metadata": {},
     "output_type": "execute_result"
    }
   ],
   "source": [
    "\"工作转速小于%.3e\"%(0.75*nrc1)"
   ]
  },
  {
   "cell_type": "code",
   "execution_count": null,
   "metadata": {},
   "outputs": [],
   "source": []
  }
 ],
 "metadata": {
  "anaconda-cloud": {},
  "kernelspec": {
   "display_name": "Python [default]",
   "language": "python",
   "name": "python3"
  },
  "language_info": {
   "codemirror_mode": {
    "name": "ipython",
    "version": 3
   },
   "file_extension": ".py",
   "mimetype": "text/x-python",
   "name": "python",
   "nbconvert_exporter": "python",
   "pygments_lexer": "ipython3",
   "version": "3.5.2"
  },
  "latex_envs": {
   "LaTeX_envs_menu_present": true,
   "autocomplete": true,
   "bibliofile": "biblio.bib",
   "cite_by": "apalike",
   "current_citInitial": 1,
   "eqLabelWithNumbers": true,
   "eqNumInitial": 1,
   "hotkeys": {
    "equation": "Ctrl-E",
    "itemize": "Ctrl-I"
   },
   "labels_anchors": false,
   "latex_user_defs": false,
   "report_style_numbering": true,
   "user_envs_cfg": true
  },
  "toc": {
   "nav_menu": {},
   "number_sections": false,
   "sideBar": true,
   "skip_h1_title": false,
   "toc_cell": false,
   "toc_position": {},
   "toc_section_display": "block",
   "toc_window_display": false
  },
  "widgets": {
   "application/vnd.jupyter.widget-state+json": {
    "state": {},
    "version_major": 2,
    "version_minor": 0
   }
  }
 },
 "nbformat": 4,
 "nbformat_minor": 2
}
