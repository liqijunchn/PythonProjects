{
 "cells": [
  {
   "cell_type": "markdown",
   "metadata": {},
   "source": [
    "# 一维数据Series"
   ]
  },
  {
   "cell_type": "code",
   "execution_count": 15,
   "metadata": {
    "collapsed": true
   },
   "outputs": [],
   "source": [
    "import pandas as pd\n",
    "import numpy as np"
   ]
  },
  {
   "cell_type": "code",
   "execution_count": 16,
   "metadata": {
    "scrolled": true
   },
   "outputs": [
    {
     "name": "stdout",
     "output_type": "stream",
     "text": [
      "a    4\n",
      "b    5\n",
      "c    6\n",
      "dtype: int64\n"
     ]
    }
   ],
   "source": [
    "s= pd.Series([4,5,6],index=['a','b','c'])\n",
    "print(s)"
   ]
  },
  {
   "cell_type": "code",
   "execution_count": 17,
   "metadata": {
    "scrolled": true
   },
   "outputs": [
    {
     "name": "stdout",
     "output_type": "stream",
     "text": [
      "a    5\n",
      "b    5\n",
      "c    5\n",
      "dtype: int64\n"
     ]
    }
   ],
   "source": [
    "s2=pd.Series(5,index=['a','b','c'])\n",
    "print(s2)"
   ]
  },
  {
   "cell_type": "code",
   "execution_count": 18,
   "metadata": {
    "scrolled": true
   },
   "outputs": [
    {
     "name": "stdout",
     "output_type": "stream",
     "text": [
      "a    3\n",
      "b    4\n",
      "c    5\n",
      "dtype: int64\n"
     ]
    }
   ],
   "source": [
    "s3=pd.Series({'a':3,'b':4,'c':5})\n",
    "print(s3)"
   ]
  },
  {
   "cell_type": "code",
   "execution_count": 19,
   "metadata": {
    "scrolled": true
   },
   "outputs": [
    {
     "name": "stdout",
     "output_type": "stream",
     "text": [
      "a   -0.259295\n",
      "b   -0.143622\n",
      "c   -2.104322\n",
      "d    0.794868\n",
      "dtype: float64\n"
     ]
    }
   ],
   "source": [
    "s4=pd.Series(np.random.randn(4),index=['a','b','c','d'])\n",
    "print(s4)"
   ]
  },
  {
   "cell_type": "markdown",
   "metadata": {},
   "source": [
    "# 二维数据 DataFrame"
   ]
  },
  {
   "cell_type": "code",
   "execution_count": 26,
   "metadata": {
    "scrolled": true
   },
   "outputs": [
    {
     "name": "stdout",
     "output_type": "stream",
     "text": [
      "   a  b  c\n",
      "1  1  2  3\n",
      "2  1  2  3\n",
      "3  1  2  3\n"
     ]
    }
   ],
   "source": [
    "d=pd.DataFrame(data={\"a\":1,\"b\":2,\"c\":3}, index=[1,2,3])\n",
    "print(d)"
   ]
  },
  {
   "cell_type": "code",
   "execution_count": 28,
   "metadata": {},
   "outputs": [
    {
     "name": "stdout",
     "output_type": "stream",
     "text": [
      "   A  B\n",
      "0  1  2\n",
      "1  3  4\n"
     ]
    }
   ],
   "source": [
    "d2=pd.DataFrame([[1,2],[3,4]],columns=list('AB'))\n",
    "print(d2)"
   ]
  },
  {
   "cell_type": "code",
   "execution_count": 29,
   "metadata": {},
   "outputs": [
    {
     "name": "stdout",
     "output_type": "stream",
     "text": [
      "          0         1         2\n",
      "0  1.866082 -0.961550  0.252834\n",
      "1  0.269380  0.608946 -0.732817\n",
      "2 -0.798300  1.468926 -0.132721\n"
     ]
    }
   ],
   "source": [
    "df = pd.DataFrame(np.random.randn(3, 3))\n",
    "print(df)"
   ]
  },
  {
   "cell_type": "code",
   "execution_count": 30,
   "metadata": {
    "scrolled": true
   },
   "outputs": [
    {
     "name": "stdout",
     "output_type": "stream",
     "text": [
      "       0      1      2\n",
      "0   1.87  -0.96   0.25\n",
      "1   0.27   0.61  -0.73\n",
      "2  -0.80   1.47  -0.13\n"
     ]
    }
   ],
   "source": [
    "df=df.applymap(lambda x: \"%.2f\"%x)\n",
    "print(df)"
   ]
  },
  {
   "cell_type": "markdown",
   "metadata": {},
   "source": [
    "从ndarray中构造"
   ]
  },
  {
   "cell_type": "code",
   "execution_count": 49,
   "metadata": {
    "scrolled": true
   },
   "outputs": [
    {
     "name": "stdout",
     "output_type": "stream",
     "text": [
      "    A         B\n",
      "0   1 -0.696663\n",
      "1   2  0.710554\n",
      "2   3  0.035175\n",
      "3   4  0.976148\n",
      "4   5  0.038194\n",
      "5   6  1.156874\n",
      "6   7 -0.576588\n",
      "7   8 -0.023632\n",
      "8   9  0.429092\n",
      "9  10  0.637237\n",
      "   A  B\n",
      "0  1  5\n",
      "1  2  6\n",
      "2  3  7\n",
      "3  4  8\n"
     ]
    }
   ],
   "source": [
    "df3=pd.DataFrame({\"A\":range(1,11),\"B\":np.random.randn(10)})\n",
    "df4=pd.DataFrame({\"A\":[1,2,3,4],\"B\":[5,6,7,8]})\n",
    "print(df3)\n",
    "print(df4)"
   ]
  },
  {
   "cell_type": "markdown",
   "metadata": {},
   "source": [
    "从list字典中构造"
   ]
  },
  {
   "cell_type": "code",
   "execution_count": 52,
   "metadata": {
    "scrolled": false
   },
   "outputs": [
    {
     "name": "stdout",
     "output_type": "stream",
     "text": [
      "   A  B\n",
      "h  1  5\n",
      "i  2  6\n",
      "j  3  7\n",
      "k  4  8\n"
     ]
    }
   ],
   "source": [
    "df5=pd.DataFrame({\"A\":[1,2,3,4],\"B\":[5,6,7,8]},index=list(\"hijk\"))\n",
    "print(df5)"
   ]
  },
  {
   "cell_type": "markdown",
   "metadata": {},
   "source": [
    "Series字典构造"
   ]
  },
  {
   "cell_type": "code",
   "execution_count": 60,
   "metadata": {},
   "outputs": [
    {
     "name": "stdout",
     "output_type": "stream",
     "text": [
      "   one  two\n",
      "A    1    4\n",
      "B    2    5\n",
      "C    3    6\n",
      "D    4    7\n"
     ]
    }
   ],
   "source": [
    "df6=pd.DataFrame({\"one\":pd.Series([1,2,3,4],index=list(\"ABCD\")),\n",
    "                  \"two\":pd.Series([4,5,6,7],index=list(\"ABCD\"))\n",
    "                 })\n",
    "print(df6)"
   ]
  },
  {
   "cell_type": "markdown",
   "metadata": {},
   "source": [
    "从字典列表中构造"
   ]
  },
  {
   "cell_type": "code",
   "execution_count": 64,
   "metadata": {},
   "outputs": [
    {
     "name": "stdout",
     "output_type": "stream",
     "text": [
      "        A  B\n",
      "first   1  2\n",
      "second  3  4\n"
     ]
    }
   ],
   "source": [
    "df7=pd.DataFrame([{\"A\":1,\"B\":2},{\"A\":3,\"B\":4}],index=[\"first\",\"second\"])\n",
    "print(df7)"
   ]
  },
  {
   "cell_type": "markdown",
   "metadata": {},
   "source": [
    "# DataFrame 列操作"
   ]
  },
  {
   "cell_type": "code",
   "execution_count": 71,
   "metadata": {},
   "outputs": [
    {
     "name": "stdout",
     "output_type": "stream",
     "text": [
      "        A  B  C\n",
      "first   1  2  7\n",
      "second  3  4  8\n"
     ]
    }
   ],
   "source": [
    "df7[\"C\"]=pd.Series([7,8],index=[\"first\",\"second\"])\n",
    "print(df7)"
   ]
  }
 ],
 "metadata": {
  "anaconda-cloud": {},
  "kernelspec": {
   "display_name": "Python [conda root]",
   "language": "python",
   "name": "conda-root-py"
  },
  "language_info": {
   "codemirror_mode": {
    "name": "ipython",
    "version": 3
   },
   "file_extension": ".py",
   "mimetype": "text/x-python",
   "name": "python",
   "nbconvert_exporter": "python",
   "pygments_lexer": "ipython3",
   "version": "3.5.2"
  },
  "latex_envs": {
   "LaTeX_envs_menu_present": true,
   "autocomplete": true,
   "bibliofile": "biblio.bib",
   "cite_by": "apalike",
   "current_citInitial": 1,
   "eqLabelWithNumbers": true,
   "eqNumInitial": 1,
   "hotkeys": {
    "equation": "Ctrl-E",
    "itemize": "Ctrl-I"
   },
   "labels_anchors": false,
   "latex_user_defs": false,
   "report_style_numbering": true,
   "user_envs_cfg": true
  },
  "toc": {
   "collapse_to_match_collapsible_headings": false,
   "colors": {
    "hover_highlight": "#DAA520",
    "navigate_num": "#000000",
    "navigate_text": "#333333",
    "running_highlight": "#FF0000",
    "selected_highlight": "#FFD700",
    "sidebar_border": "#EEEEEE",
    "wrapper_background": "#FFFFFF"
   },
   "moveMenuLeft": true,
   "navigate_menu": false,
   "number_sections": false,
   "sideBar": true,
   "skip_h1_title": false,
   "threshold": 4,
   "toc_cell": false,
   "toc_section_display": "block",
   "toc_window_display": false,
   "widenNotebook": false
  }
 },
 "nbformat": 4,
 "nbformat_minor": 2
}
